{
 "cells": [
  {
   "cell_type": "markdown",
   "metadata": {},
   "source": [
    "# Descriptive Statistics - Homework 1\n",
    "\n",
    "Completed by **Martin Breuss**, Bsc.\n",
    "\n",
    "[ma1531br-s@student.lu.se](mailto:ma1531br-s@student.lu.se)\n",
    "\n",
    "Code available at "
   ]
  },
  {
   "cell_type": "code",
   "execution_count": 1,
   "metadata": {},
   "outputs": [],
   "source": [
    "import numpy as np"
   ]
  },
  {
   "cell_type": "markdown",
   "metadata": {},
   "source": [
    "## Question 1\n",
    "\n",
    "The rainfall during a storm is measured at ten climate stations, and have the\n",
    "following values in mm:\n",
    "\n",
    "```\n",
    "45, 76, 33, 112, 67, 23, 88, 39, 71, 62\n",
    "```\n",
    "\n",
    "1. calculate the mean and the standard deviation\n",
    "2. convert all observations to z-scores\n",
    "3. calculate the coefficient of variation"
   ]
  },
  {
   "cell_type": "code",
   "execution_count": 2,
   "metadata": {},
   "outputs": [],
   "source": [
    "rainfall_in_mm = [45, 76, 33, 112, 67, 23, 88, 39, 71, 62]"
   ]
  },
  {
   "cell_type": "markdown",
   "metadata": {},
   "source": [
    "1) Let's start with the mean (μ) and the standard deviation (σ) of this list of numbers:"
   ]
  },
  {
   "cell_type": "code",
   "execution_count": 3,
   "metadata": {},
   "outputs": [
    {
     "name": "stdout",
     "output_type": "stream",
     "text": [
      "61.6\n"
     ]
    },
    {
     "data": {
      "text/plain": [
       "True"
      ]
     },
     "execution_count": 3,
     "metadata": {},
     "output_type": "execute_result"
    }
   ],
   "source": [
    "μ = sum(rainfall_in_mm) / len(rainfall_in_mm)\n",
    "print(μ)\n",
    "\n",
    "# or easier on a higher level of abstraction:\n",
    "μ == np.mean(rainfall_in_mm)"
   ]
  },
  {
   "cell_type": "code",
   "execution_count": 4,
   "metadata": {},
   "outputs": [
    {
     "name": "stdout",
     "output_type": "stream",
     "text": [
      "25.8\n"
     ]
    },
    {
     "data": {
      "text/plain": [
       "True"
      ]
     },
     "execution_count": 4,
     "metadata": {},
     "output_type": "execute_result"
    }
   ],
   "source": [
    "σ = np.sqrt(sum([(x - μ)**2 for x in rainfall_in_mm]) / len(rainfall_in_mm))\n",
    "print(σ)\n",
    "\n",
    "# or, abstracted:\n",
    "σ == np.std(rainfall_in_mm)"
   ]
  },
  {
   "cell_type": "markdown",
   "metadata": {},
   "source": [
    "2) Next, convert the observations to z-scores:"
   ]
  },
  {
   "cell_type": "code",
   "execution_count": 5,
   "metadata": {},
   "outputs": [
    {
     "name": "stdout",
     "output_type": "stream",
     "text": [
      "[-0.6434108527131783, 0.5581395348837208, -1.1085271317829457, 1.9534883720930232, 0.20930232558139528, -1.496124031007752, 1.0232558139534882, -0.875968992248062, 0.36434108527131776, 0.015503875968992192]\n"
     ]
    }
   ],
   "source": [
    "z_scores_rainfall = [(x - μ) / σ for x in rainfall_in_mm]\n",
    "\n",
    "print(z_scores_rainfall)"
   ]
  },
  {
   "cell_type": "markdown",
   "metadata": {},
   "source": [
    "3) Finally, let's calculate the [coefficient of variation](https://en.wikipedia.org/wiki/Coefficient_of_variation)"
   ]
  },
  {
   "cell_type": "code",
   "execution_count": 6,
   "metadata": {
    "scrolled": true
   },
   "outputs": [
    {
     "name": "stdout",
     "output_type": "stream",
     "text": [
      "0.41883116883116883\n"
     ]
    }
   ],
   "source": [
    "cv_rainfall = σ / μ\n",
    "print(cv_rainfall)"
   ]
  },
  {
   "cell_type": "markdown",
   "metadata": {},
   "source": [
    "The statistical measures for the rainfall at the mentioned 10 climate stations is as follows:\n",
    "\n",
    "- **mean**: `61.6`\n",
    "- **standard deviation**: `25.8`\n",
    "- **coefficient of variation**: `0.41883116883116883`\n",
    "\n",
    "The **z-scores** are as follows:\n",
    "\n",
    "```\n",
    "[-0.6434108527131783, 0.5581395348837208, -1.1085271317829457, 1.9534883720930232, 0.20930232558139528, -1.496124031007752, 1.0232558139534882, -0.875968992248062, 0.36434108527131776, 0.015503875968992192]\n",
    "```"
   ]
  },
  {
   "cell_type": "markdown",
   "metadata": {},
   "source": [
    "---\n",
    "\n",
    "## Question 2\n",
    "\n",
    "We know that the average yearly income (in Swedish crowns) in a neighborhood is normally distributed with `µ = 310 000` and `σ = 22 000`.\n",
    "\n",
    "1. A person has a annual yearly income of 328 000. How often is it to have a salary of at least 328 000?\n",
    "2. What percentage of the population in that neighborhood have an annual income lower than 270 000? "
   ]
  },
  {
   "cell_type": "code",
   "execution_count": 39,
   "metadata": {},
   "outputs": [],
   "source": [
    "salary_µ = 310_000\n",
    "salary_σ = 22_000\n",
    "\n",
    "high_income = 328_000\n",
    "low_income = 270_000"
   ]
  },
  {
   "cell_type": "markdown",
   "metadata": {},
   "source": [
    "1. A person has a annual yearly income of 328 000. How often is it to have a salary of at least 328 000?"
   ]
  },
  {
   "cell_type": "code",
   "execution_count": 40,
   "metadata": {},
   "outputs": [
    {
     "data": {
      "text/plain": [
       "0.8181818181818182"
      ]
     },
     "execution_count": 40,
     "metadata": {},
     "output_type": "execute_result"
    }
   ],
   "source": [
    "z_score_high = (high_income - salary_μ) / salary_σ\n",
    "z_score_high"
   ]
  },
  {
   "cell_type": "markdown",
   "metadata": {},
   "source": [
    "A person with an annual yearly income of 328 000 SK is (rounded) `0.82 σ` from the mean. That means, according to the [Table Under The Normal Curve](https://moodle.nateko.lu.se/pluginfile.php/14634/mod_resource/content/0/Links_and_tables/Table_area_under_normal_curve.pdf):"
   ]
  },
  {
   "cell_type": "code",
   "execution_count": 44,
   "metadata": {},
   "outputs": [],
   "source": [
    "p_high = 0.2939"
   ]
  },
  {
   "cell_type": "markdown",
   "metadata": {},
   "source": [
    "![Area under the curve and formulas from the course materials](area_under_curve.png)\n",
    "\n",
    "Since we are looking for the probability for salaries _above_ the given number, which equals to the area under the curve from the value onwards, we need to substract p from 0.5:"
   ]
  },
  {
   "cell_type": "code",
   "execution_count": 49,
   "metadata": {},
   "outputs": [
    {
     "data": {
      "text/plain": [
       "0.2061"
      ]
     },
     "execution_count": 49,
     "metadata": {},
     "output_type": "execute_result"
    }
   ],
   "source": [
    "p_above = 0.5 - p_high\n",
    "p_above"
   ]
  },
  {
   "cell_type": "markdown",
   "metadata": {},
   "source": [
    "The probability of having an annual income of that size is `0.2061`, or approximately 20%. That means that about every 5th person has this or a higher annual income."
   ]
  },
  {
   "cell_type": "markdown",
   "metadata": {},
   "source": [
    "2. What percentage of the population in that neighborhood have an annual income lower than 270 000? "
   ]
  },
  {
   "cell_type": "code",
   "execution_count": 41,
   "metadata": {},
   "outputs": [
    {
     "data": {
      "text/plain": [
       "-1.8181818181818181"
      ]
     },
     "execution_count": 41,
     "metadata": {},
     "output_type": "execute_result"
    }
   ],
   "source": [
    "z_score_low = (low_income - salary_μ) / salary_σ\n",
    "z_score_low"
   ]
  },
  {
   "cell_type": "markdown",
   "metadata": {},
   "source": [
    "The annual yearly income of 220 000 SK is (rounded) `1.82 σ` from the mean. That means, according to the [Table Under The Normal Curve](https://moodle.nateko.lu.se/pluginfile.php/14634/mod_resource/content/0/Links_and_tables/Table_area_under_normal_curve.pdf):"
   ]
  },
  {
   "cell_type": "code",
   "execution_count": 43,
   "metadata": {},
   "outputs": [],
   "source": [
    "p_low = 0.4656"
   ]
  },
  {
   "cell_type": "markdown",
   "metadata": {},
   "source": [
    "The probability of having an annual income of 220 000 SK or lower is `0.4656`, or approximately 46%."
   ]
  },
  {
   "cell_type": "markdown",
   "metadata": {},
   "source": [
    "---\n",
    "\n",
    "## Question 3\n",
    "\n",
    "The percentage of sand in 120 soil samples was measured, and the distribution of\n",
    "the results is presented in this frequency table.\n",
    "\n",
    "|Sand (%) | Frequency |\n",
    "| --- | --- |\n",
    "|85 | 1 |\n",
    "|86 | 0 |\n",
    "|87 | 8 |\n",
    "|88 | 12 |\n",
    "|89 | 17 |\n",
    "|90 | 44 |\n",
    "|91 | 19 |\n",
    "|92 | 11 |\n",
    "|93 | 6 |\n",
    "|94 | 1 |\n",
    "|95 | 1 |\n",
    "\n",
    "a) What is the median of the percentage of sand? "
   ]
  },
  {
   "cell_type": "code",
   "execution_count": 10,
   "metadata": {},
   "outputs": [],
   "source": [
    "frequency_table = {\n",
    "    85: 1,\n",
    "    86: 0,\n",
    "    87: 8,\n",
    "    88: 12,\n",
    "    89: 17,\n",
    "    90: 44,\n",
    "    91: 19,\n",
    "    92: 11,\n",
    "    93: 6,\n",
    "    94: 1,\n",
    "    95: 1,\n",
    "}"
   ]
  },
  {
   "cell_type": "markdown",
   "metadata": {},
   "source": [
    "First, we need to get a list of all the sample sand percentages to work with."
   ]
  },
  {
   "cell_type": "code",
   "execution_count": 12,
   "metadata": {},
   "outputs": [],
   "source": [
    "sample_list = []\n",
    "for k, v in frequency_table.items():\n",
    "    for i in range(v):\n",
    "        sample_list.append(k)"
   ]
  },
  {
   "cell_type": "code",
   "execution_count": 17,
   "metadata": {},
   "outputs": [
    {
     "name": "stdout",
     "output_type": "stream",
     "text": [
      "All good.\n"
     ]
    }
   ],
   "source": [
    "# check whether the transform worked as expected\n",
    "for k, v in frequency_table.items():\n",
    "    if v != sample_list.count(k):\n",
    "        raise Exception(f\"Non-matching counts for {k}\")\n",
    "else:\n",
    "    print(\"All good.\")"
   ]
  },
  {
   "cell_type": "markdown",
   "metadata": {},
   "source": [
    "The list needs to be sorted."
   ]
  },
  {
   "cell_type": "code",
   "execution_count": 18,
   "metadata": {},
   "outputs": [],
   "source": [
    "sorted_samples = sorted(sample_list)"
   ]
  },
  {
   "cell_type": "markdown",
   "metadata": {},
   "source": [
    "Now we need to figure out whether we are handling an odd or even number of samples, to calculate the median accordingly by then either taking the number in the middle (odd count) or calculating the number in between the two middle ones (even count)."
   ]
  },
  {
   "cell_type": "code",
   "execution_count": 20,
   "metadata": {},
   "outputs": [
    {
     "data": {
      "text/plain": [
       "120"
      ]
     },
     "execution_count": 20,
     "metadata": {},
     "output_type": "execute_result"
    }
   ],
   "source": [
    "len(sorted_samples)"
   ]
  },
  {
   "cell_type": "markdown",
   "metadata": {},
   "source": [
    "It's an even number of samples, which means we need to take the number in between the two middle ones."
   ]
  },
  {
   "cell_type": "code",
   "execution_count": 26,
   "metadata": {},
   "outputs": [
    {
     "data": {
      "text/plain": [
       "[90, 90]"
      ]
     },
     "execution_count": 26,
     "metadata": {},
     "output_type": "execute_result"
    }
   ],
   "source": [
    "middle_nums = sorted_samples[(int(len(sorted_samples)/2)-1):(int(len(sorted_samples)/2)+1)]  # 0-indexed\n",
    "middle_nums"
   ]
  },
  {
   "cell_type": "code",
   "execution_count": 30,
   "metadata": {},
   "outputs": [],
   "source": [
    "median = sum(middle_nums) / len(middle_nums)"
   ]
  },
  {
   "cell_type": "code",
   "execution_count": 31,
   "metadata": {},
   "outputs": [
    {
     "data": {
      "text/plain": [
       "90.0"
      ]
     },
     "execution_count": 31,
     "metadata": {},
     "output_type": "execute_result"
    }
   ],
   "source": [
    "median"
   ]
  },
  {
   "cell_type": "markdown",
   "metadata": {},
   "source": [
    "This was the complicated manual way of calculating the median, let's now do it how a sane person would do it, if they are _alread_ using `numpy`..."
   ]
  },
  {
   "cell_type": "code",
   "execution_count": 33,
   "metadata": {},
   "outputs": [
    {
     "data": {
      "text/plain": [
       "90.0"
      ]
     },
     "execution_count": 33,
     "metadata": {},
     "output_type": "execute_result"
    }
   ],
   "source": [
    "np.median(sample_list)"
   ]
  },
  {
   "cell_type": "markdown",
   "metadata": {},
   "source": [
    "😁"
   ]
  },
  {
   "cell_type": "markdown",
   "metadata": {},
   "source": [
    "The median of sand percentage of the given soil samples is `90.0%`."
   ]
  },
  {
   "cell_type": "markdown",
   "metadata": {},
   "source": [
    "---\n",
    "\n",
    "## Question 4\n",
    "\n",
    "Assuming that the height of Swedish women is normally distributed with µ = 168 cm and σ = 5.0 cm. For a special study, a research group is interested in women with a height ranging between 160-170 cm.\n",
    "\n",
    "1) What is the percentage of all Swedish women falling within this range? "
   ]
  },
  {
   "cell_type": "code",
   "execution_count": 45,
   "metadata": {},
   "outputs": [],
   "source": [
    "height_µ = 168\n",
    "height_σ = 5.0\n",
    "study_height = range(160, 171)  # range() does \"from x up to but not including y\""
   ]
  },
  {
   "cell_type": "code",
   "execution_count": 54,
   "metadata": {},
   "outputs": [
    {
     "data": {
      "text/plain": [
       "-1.6"
      ]
     },
     "execution_count": 54,
     "metadata": {},
     "output_type": "execute_result"
    }
   ],
   "source": [
    "z_score_bottom = (study_height[0] - height_μ) / height_σ\n",
    "z_score_bottom"
   ]
  },
  {
   "cell_type": "code",
   "execution_count": 55,
   "metadata": {},
   "outputs": [
    {
     "data": {
      "text/plain": [
       "0.4"
      ]
     },
     "execution_count": 55,
     "metadata": {},
     "output_type": "execute_result"
    }
   ],
   "source": [
    "z_score_top = (study_height[-1] - height_μ) / height_σ\n",
    "z_score_top"
   ]
  },
  {
   "cell_type": "code",
   "execution_count": 57,
   "metadata": {},
   "outputs": [],
   "source": [
    "p_bottom = 0.4452 # lookup from z-score table"
   ]
  },
  {
   "cell_type": "code",
   "execution_count": 58,
   "metadata": {},
   "outputs": [],
   "source": [
    "p_top = 0.1554  # lookup from z-score table"
   ]
  },
  {
   "cell_type": "markdown",
   "metadata": {},
   "source": [
    "Now, since we want the range _between_ these two areas below the curve, we substract the higher p-score from the lower p-score:"
   ]
  },
  {
   "cell_type": "code",
   "execution_count": 62,
   "metadata": {},
   "outputs": [
    {
     "data": {
      "text/plain": [
       "0.28979999999999995"
      ]
     },
     "execution_count": 62,
     "metadata": {},
     "output_type": "execute_result"
    }
   ],
   "source": [
    "p = p_bottom - p_top\n",
    "p"
   ]
  },
  {
   "cell_type": "markdown",
   "metadata": {},
   "source": [
    "The percentage of Swedish women that fall into the height range of 160 - 170 cm (inclusive) and are therefore relevant for the mysterious study, lies at `28.98%`."
   ]
  },
  {
   "cell_type": "markdown",
   "metadata": {},
   "source": [
    "---\n",
    "\n",
    "## Question 5\n",
    "\n",
    "A distribution has a median smaller than the mean, with a large number of low observations and a small number of high observations.\n",
    "\n",
    "1. Is this distribution positively or negatively skewed? "
   ]
  },
  {
   "cell_type": "markdown",
   "metadata": {},
   "source": [
    "![positively skewed distribution curve](positively_skewed.png)"
   ]
  },
  {
   "cell_type": "markdown",
   "metadata": {},
   "source": [
    "The distribution is **positively skewed**"
   ]
  },
  {
   "cell_type": "markdown",
   "metadata": {},
   "source": [
    "![](https://cdn.corporatefinanceinstitute.com/assets/Positively-Skewed-Distribution.png)"
   ]
  },
  {
   "cell_type": "code",
   "execution_count": null,
   "metadata": {},
   "outputs": [],
   "source": []
  }
 ],
 "metadata": {
  "kernelspec": {
   "display_name": "Python 3",
   "language": "python",
   "name": "python3"
  },
  "language_info": {
   "codemirror_mode": {
    "name": "ipython",
    "version": 3
   },
   "file_extension": ".py",
   "mimetype": "text/x-python",
   "name": "python",
   "nbconvert_exporter": "python",
   "pygments_lexer": "ipython3",
   "version": "3.8.1"
  },
  "toc": {
   "base_numbering": 1,
   "nav_menu": {},
   "number_sections": true,
   "sideBar": true,
   "skip_h1_title": false,
   "title_cell": "Table of Contents",
   "title_sidebar": "Contents",
   "toc_cell": false,
   "toc_position": {},
   "toc_section_display": true,
   "toc_window_display": false
  },
  "varInspector": {
   "cols": {
    "lenName": 16,
    "lenType": 16,
    "lenVar": 40
   },
   "kernels_config": {
    "python": {
     "delete_cmd_postfix": "",
     "delete_cmd_prefix": "del ",
     "library": "var_list.py",
     "varRefreshCmd": "print(var_dic_list())"
    },
    "r": {
     "delete_cmd_postfix": ") ",
     "delete_cmd_prefix": "rm(",
     "library": "var_list.r",
     "varRefreshCmd": "cat(var_dic_list()) "
    }
   },
   "types_to_exclude": [
    "module",
    "function",
    "builtin_function_or_method",
    "instance",
    "_Feature"
   ],
   "window_display": false
  }
 },
 "nbformat": 4,
 "nbformat_minor": 4
}
